{
 "cells": [
  {
   "cell_type": "code",
   "execution_count": 13,
   "metadata": {},
   "outputs": [],
   "source": [
    "import numpy as np\n",
    "import pandas as pd\n",
    "import matplotlib.pyplot as pt\n",
    "from sklearn.linear_model import LogisticRegression\n",
    "from sklearn.model_selection import train_test_split\n",
    "import matplotlib.pylab as plt"
   ]
  },
  {
   "cell_type": "code",
   "execution_count": 14,
   "metadata": {},
   "outputs": [],
   "source": [
    "from sklearn.datasets import make_classification\n",
    "x,y = make_classification(n_samples=1000,n_features=10,n_classes=2,random_state=1)"
   ]
  },
  {
   "cell_type": "code",
   "execution_count": 15,
   "metadata": {},
   "outputs": [],
   "source": [
    "x_train,x_test,y_train,y_test =train_test_split(x,y,test_size=0.25,random_state=10)"
   ]
  },
  {
   "cell_type": "code",
   "execution_count": 16,
   "metadata": {},
   "outputs": [],
   "source": [
    "dummy_model = [0 for i in range(len(y_test))]"
   ]
  },
  {
   "cell_type": "code",
   "execution_count": 17,
   "metadata": {},
   "outputs": [
    {
     "data": {
      "text/html": [
       "<style>#sk-container-id-2 {color: black;}#sk-container-id-2 pre{padding: 0;}#sk-container-id-2 div.sk-toggleable {background-color: white;}#sk-container-id-2 label.sk-toggleable__label {cursor: pointer;display: block;width: 100%;margin-bottom: 0;padding: 0.3em;box-sizing: border-box;text-align: center;}#sk-container-id-2 label.sk-toggleable__label-arrow:before {content: \"▸\";float: left;margin-right: 0.25em;color: #696969;}#sk-container-id-2 label.sk-toggleable__label-arrow:hover:before {color: black;}#sk-container-id-2 div.sk-estimator:hover label.sk-toggleable__label-arrow:before {color: black;}#sk-container-id-2 div.sk-toggleable__content {max-height: 0;max-width: 0;overflow: hidden;text-align: left;background-color: #f0f8ff;}#sk-container-id-2 div.sk-toggleable__content pre {margin: 0.2em;color: black;border-radius: 0.25em;background-color: #f0f8ff;}#sk-container-id-2 input.sk-toggleable__control:checked~div.sk-toggleable__content {max-height: 200px;max-width: 100%;overflow: auto;}#sk-container-id-2 input.sk-toggleable__control:checked~label.sk-toggleable__label-arrow:before {content: \"▾\";}#sk-container-id-2 div.sk-estimator input.sk-toggleable__control:checked~label.sk-toggleable__label {background-color: #d4ebff;}#sk-container-id-2 div.sk-label input.sk-toggleable__control:checked~label.sk-toggleable__label {background-color: #d4ebff;}#sk-container-id-2 input.sk-hidden--visually {border: 0;clip: rect(1px 1px 1px 1px);clip: rect(1px, 1px, 1px, 1px);height: 1px;margin: -1px;overflow: hidden;padding: 0;position: absolute;width: 1px;}#sk-container-id-2 div.sk-estimator {font-family: monospace;background-color: #f0f8ff;border: 1px dotted black;border-radius: 0.25em;box-sizing: border-box;margin-bottom: 0.5em;}#sk-container-id-2 div.sk-estimator:hover {background-color: #d4ebff;}#sk-container-id-2 div.sk-parallel-item::after {content: \"\";width: 100%;border-bottom: 1px solid gray;flex-grow: 1;}#sk-container-id-2 div.sk-label:hover label.sk-toggleable__label {background-color: #d4ebff;}#sk-container-id-2 div.sk-serial::before {content: \"\";position: absolute;border-left: 1px solid gray;box-sizing: border-box;top: 0;bottom: 0;left: 50%;z-index: 0;}#sk-container-id-2 div.sk-serial {display: flex;flex-direction: column;align-items: center;background-color: white;padding-right: 0.2em;padding-left: 0.2em;position: relative;}#sk-container-id-2 div.sk-item {position: relative;z-index: 1;}#sk-container-id-2 div.sk-parallel {display: flex;align-items: stretch;justify-content: center;background-color: white;position: relative;}#sk-container-id-2 div.sk-item::before, #sk-container-id-2 div.sk-parallel-item::before {content: \"\";position: absolute;border-left: 1px solid gray;box-sizing: border-box;top: 0;bottom: 0;left: 50%;z-index: -1;}#sk-container-id-2 div.sk-parallel-item {display: flex;flex-direction: column;z-index: 1;position: relative;background-color: white;}#sk-container-id-2 div.sk-parallel-item:first-child::after {align-self: flex-end;width: 50%;}#sk-container-id-2 div.sk-parallel-item:last-child::after {align-self: flex-start;width: 50%;}#sk-container-id-2 div.sk-parallel-item:only-child::after {width: 0;}#sk-container-id-2 div.sk-dashed-wrapped {border: 1px dashed gray;margin: 0 0.4em 0.5em 0.4em;box-sizing: border-box;padding-bottom: 0.4em;background-color: white;}#sk-container-id-2 div.sk-label label {font-family: monospace;font-weight: bold;display: inline-block;line-height: 1.2em;}#sk-container-id-2 div.sk-label-container {text-align: center;}#sk-container-id-2 div.sk-container {/* jupyter's `normalize.less` sets `[hidden] { display: none; }` but bootstrap.min.css set `[hidden] { display: none !important; }` so we also need the `!important` here to be able to override the default hidden behavior on the sphinx rendered scikit-learn.org. See: https://github.com/scikit-learn/scikit-learn/issues/21755 */display: inline-block !important;position: relative;}#sk-container-id-2 div.sk-text-repr-fallback {display: none;}</style><div id=\"sk-container-id-2\" class=\"sk-top-container\"><div class=\"sk-text-repr-fallback\"><pre>LogisticRegression()</pre><b>In a Jupyter environment, please rerun this cell to show the HTML representation or trust the notebook. <br />On GitHub, the HTML representation is unable to render, please try loading this page with nbviewer.org.</b></div><div class=\"sk-container\" hidden><div class=\"sk-item\"><div class=\"sk-estimator sk-toggleable\"><input class=\"sk-toggleable__control sk-hidden--visually\" id=\"sk-estimator-id-2\" type=\"checkbox\" checked><label for=\"sk-estimator-id-2\" class=\"sk-toggleable__label sk-toggleable__label-arrow\">LogisticRegression</label><div class=\"sk-toggleable__content\"><pre>LogisticRegression()</pre></div></div></div></div></div>"
      ],
      "text/plain": [
       "LogisticRegression()"
      ]
     },
     "execution_count": 17,
     "metadata": {},
     "output_type": "execute_result"
    }
   ],
   "source": [
    "log = LogisticRegression()\n",
    "log.fit(x_train,y_train)"
   ]
  },
  {
   "cell_type": "code",
   "execution_count": 18,
   "metadata": {},
   "outputs": [],
   "source": [
    "y_pred = log.predict(x_test)"
   ]
  },
  {
   "cell_type": "code",
   "execution_count": 19,
   "metadata": {},
   "outputs": [
    {
     "data": {
      "text/plain": [
       "array([1, 1, 0, 1, 1, 1, 0, 1, 1, 1, 0, 1, 0, 0, 0, 0, 0, 1, 0, 0, 1, 0,\n",
       "       1, 0, 0, 1, 0, 1, 1, 1, 1, 1, 0, 1, 0, 1, 0, 1, 0, 0, 0, 0, 1, 0,\n",
       "       1, 1, 0, 0, 0, 0, 0, 0, 0, 1, 1, 1, 0, 0, 0, 1, 0, 1, 1, 1, 1, 1,\n",
       "       0, 1, 0, 1, 1, 1, 1, 1, 1, 0, 1, 1, 0, 1, 0, 0, 0, 0, 1, 0, 0, 0,\n",
       "       1, 1, 0, 1, 1, 1, 0, 0, 0, 1, 1, 1, 0, 1, 0, 1, 1, 1, 0, 0, 0, 0,\n",
       "       0, 1, 1, 1, 0, 0, 0, 1, 0, 0, 1, 0, 1, 0, 1, 0, 1, 0, 0, 1, 1, 0,\n",
       "       1, 1, 1, 0, 0, 1, 0, 0, 1, 1, 0, 1, 0, 0, 0, 1, 1, 1, 1, 0, 0, 0,\n",
       "       0, 1, 0, 0, 1, 1, 0, 0, 1, 0, 0, 1, 1, 1, 1, 0, 0, 1, 1, 1, 1, 1,\n",
       "       0, 1, 0, 1, 1, 0, 1, 1, 1, 0, 1, 0, 1, 1, 0, 1, 0, 1, 0, 0, 0, 1,\n",
       "       0, 0, 1, 1, 1, 1, 0, 1, 1, 0, 0, 0, 0, 1, 0, 0, 1, 0, 1, 1, 0, 0,\n",
       "       0, 0, 0, 1, 1, 0, 1, 1, 0, 1, 0, 1, 1, 1, 1, 0, 1, 0, 1, 0, 0, 0,\n",
       "       0, 0, 0, 0, 1, 0, 0, 1])"
      ]
     },
     "execution_count": 19,
     "metadata": {},
     "output_type": "execute_result"
    }
   ],
   "source": [
    "y_pred"
   ]
  },
  {
   "cell_type": "code",
   "execution_count": 22,
   "metadata": {},
   "outputs": [],
   "source": [
    "y_pred_p = log.predict_proba(x_test)"
   ]
  },
  {
   "cell_type": "code",
   "execution_count": 23,
   "metadata": {},
   "outputs": [
    {
     "data": {
      "text/plain": [
       "array([[4.66097049e-01, 5.33902951e-01],\n",
       "       [2.16787533e-01, 7.83212467e-01],\n",
       "       [9.57791442e-01, 4.22085583e-02],\n",
       "       [2.43523984e-02, 9.75647602e-01],\n",
       "       [1.40560201e-01, 8.59439799e-01],\n",
       "       [6.08036373e-04, 9.99391964e-01],\n",
       "       [9.86166468e-01, 1.38335317e-02],\n",
       "       [2.92404289e-01, 7.07595711e-01],\n",
       "       [1.12104300e-01, 8.87895700e-01],\n",
       "       [4.52550880e-01, 5.47449120e-01],\n",
       "       [9.92019295e-01, 7.98070545e-03],\n",
       "       [1.90302613e-01, 8.09697387e-01],\n",
       "       [7.58730501e-01, 2.41269499e-01],\n",
       "       [9.62057271e-01, 3.79427289e-02],\n",
       "       [9.81617675e-01, 1.83823247e-02],\n",
       "       [7.89939407e-01, 2.10060593e-01],\n",
       "       [9.80614446e-01, 1.93855540e-02],\n",
       "       [4.99859592e-01, 5.00140408e-01],\n",
       "       [9.94662385e-01, 5.33761532e-03],\n",
       "       [6.22582358e-01, 3.77417642e-01],\n",
       "       [4.74808339e-01, 5.25191661e-01],\n",
       "       [9.70546642e-01, 2.94533584e-02],\n",
       "       [3.80779692e-02, 9.61922031e-01],\n",
       "       [8.39558223e-01, 1.60441777e-01],\n",
       "       [9.29886036e-01, 7.01139639e-02],\n",
       "       [2.38779389e-01, 7.61220611e-01],\n",
       "       [9.38318602e-01, 6.16813982e-02],\n",
       "       [6.25561488e-03, 9.93744385e-01],\n",
       "       [3.66206549e-03, 9.96337935e-01],\n",
       "       [6.34915988e-02, 9.36508401e-01],\n",
       "       [4.08148487e-02, 9.59185151e-01],\n",
       "       [2.63279578e-01, 7.36720422e-01],\n",
       "       [9.99823549e-01, 1.76450775e-04],\n",
       "       [1.29241813e-01, 8.70758187e-01],\n",
       "       [6.72130089e-01, 3.27869911e-01],\n",
       "       [4.20014671e-01, 5.79985329e-01],\n",
       "       [9.74109755e-01, 2.58902447e-02],\n",
       "       [4.18617543e-01, 5.81382457e-01],\n",
       "       [6.25885209e-01, 3.74114791e-01],\n",
       "       [9.95262071e-01, 4.73792855e-03],\n",
       "       [9.78832727e-01, 2.11672726e-02],\n",
       "       [7.52221803e-01, 2.47778197e-01],\n",
       "       [4.51861619e-01, 5.48138381e-01],\n",
       "       [9.69563478e-01, 3.04365219e-02],\n",
       "       [1.16968050e-01, 8.83031950e-01],\n",
       "       [3.50057654e-01, 6.49942346e-01],\n",
       "       [8.00020407e-01, 1.99979593e-01],\n",
       "       [9.89393309e-01, 1.06066911e-02],\n",
       "       [9.88445976e-01, 1.15540244e-02],\n",
       "       [7.74508142e-01, 2.25491858e-01],\n",
       "       [9.49528049e-01, 5.04719508e-02],\n",
       "       [6.05060579e-01, 3.94939421e-01],\n",
       "       [9.05764342e-01, 9.42356581e-02],\n",
       "       [3.24666816e-01, 6.75333184e-01],\n",
       "       [3.06970650e-01, 6.93029350e-01],\n",
       "       [8.60728401e-02, 9.13927160e-01],\n",
       "       [6.67087469e-01, 3.32912531e-01],\n",
       "       [9.78628141e-01, 2.13718591e-02],\n",
       "       [9.49405850e-01, 5.05941501e-02],\n",
       "       [2.94696702e-01, 7.05303298e-01],\n",
       "       [8.70039824e-01, 1.29960176e-01],\n",
       "       [1.01297495e-01, 8.98702505e-01],\n",
       "       [6.10222573e-02, 9.38977743e-01],\n",
       "       [7.54757989e-02, 9.24524201e-01],\n",
       "       [6.37009962e-03, 9.93629900e-01],\n",
       "       [1.33136938e-01, 8.66863062e-01],\n",
       "       [9.24414210e-01, 7.55857895e-02],\n",
       "       [1.22117869e-01, 8.77882131e-01],\n",
       "       [9.24659368e-01, 7.53406316e-02],\n",
       "       [1.78415757e-02, 9.82158424e-01],\n",
       "       [5.75643361e-04, 9.99424357e-01],\n",
       "       [3.82674555e-01, 6.17325445e-01],\n",
       "       [2.17043462e-01, 7.82956538e-01],\n",
       "       [4.80166525e-02, 9.51983347e-01],\n",
       "       [2.30794488e-01, 7.69205512e-01],\n",
       "       [6.26412513e-01, 3.73587487e-01],\n",
       "       [2.23825944e-01, 7.76174056e-01],\n",
       "       [2.33804515e-01, 7.66195485e-01],\n",
       "       [9.95226561e-01, 4.77343905e-03],\n",
       "       [4.31469214e-03, 9.95685308e-01],\n",
       "       [9.81558086e-01, 1.84419140e-02],\n",
       "       [9.89659175e-01, 1.03408247e-02],\n",
       "       [6.10137109e-01, 3.89862891e-01],\n",
       "       [9.77940873e-01, 2.20591271e-02],\n",
       "       [2.01558386e-01, 7.98441614e-01],\n",
       "       [6.27893699e-01, 3.72106301e-01],\n",
       "       [8.83087116e-01, 1.16912884e-01],\n",
       "       [9.98613072e-01, 1.38692840e-03],\n",
       "       [2.72930379e-02, 9.72706962e-01],\n",
       "       [2.72441173e-01, 7.27558827e-01],\n",
       "       [9.50373377e-01, 4.96266230e-02],\n",
       "       [2.34384917e-01, 7.65615083e-01],\n",
       "       [4.27548735e-01, 5.72451265e-01],\n",
       "       [7.00828896e-02, 9.29917110e-01],\n",
       "       [9.91583182e-01, 8.41681819e-03],\n",
       "       [9.76179850e-01, 2.38201497e-02],\n",
       "       [5.21726173e-01, 4.78273827e-01],\n",
       "       [2.28743062e-01, 7.71256938e-01],\n",
       "       [7.04630693e-02, 9.29536931e-01],\n",
       "       [2.68137692e-01, 7.31862308e-01],\n",
       "       [9.97079005e-01, 2.92099483e-03],\n",
       "       [4.04122440e-01, 5.95877560e-01],\n",
       "       [7.53700182e-01, 2.46299818e-01],\n",
       "       [4.08586496e-01, 5.91413504e-01],\n",
       "       [5.81528178e-02, 9.41847182e-01],\n",
       "       [9.74226618e-02, 9.02577338e-01],\n",
       "       [9.59530554e-01, 4.04694459e-02],\n",
       "       [9.68086904e-01, 3.19130957e-02],\n",
       "       [9.84991886e-01, 1.50081144e-02],\n",
       "       [9.88408846e-01, 1.15911544e-02],\n",
       "       [8.75230680e-01, 1.24769320e-01],\n",
       "       [5.31384828e-02, 9.46861517e-01],\n",
       "       [2.99777187e-01, 7.00222813e-01],\n",
       "       [4.56260470e-02, 9.54373953e-01],\n",
       "       [8.27946960e-01, 1.72053040e-01],\n",
       "       [9.50591456e-01, 4.94085440e-02],\n",
       "       [9.96677520e-01, 3.32248034e-03],\n",
       "       [8.88199855e-02, 9.11180015e-01],\n",
       "       [6.53232961e-01, 3.46767039e-01],\n",
       "       [9.78600984e-01, 2.13990155e-02],\n",
       "       [2.69826138e-01, 7.30173862e-01],\n",
       "       [9.00185734e-01, 9.98142661e-02],\n",
       "       [3.02630400e-02, 9.69736960e-01],\n",
       "       [8.67913726e-01, 1.32086274e-01],\n",
       "       [1.33685935e-01, 8.66314065e-01],\n",
       "       [9.70681925e-01, 2.93180746e-02],\n",
       "       [6.12845507e-02, 9.38715449e-01],\n",
       "       [8.42603311e-01, 1.57396689e-01],\n",
       "       [7.81657090e-01, 2.18342910e-01],\n",
       "       [9.19772193e-02, 9.08022781e-01],\n",
       "       [3.60602232e-01, 6.39397768e-01],\n",
       "       [8.55149693e-01, 1.44850307e-01],\n",
       "       [3.30931799e-02, 9.66906820e-01],\n",
       "       [3.91939743e-03, 9.96080603e-01],\n",
       "       [1.52734585e-02, 9.84726541e-01],\n",
       "       [9.93208856e-01, 6.79114386e-03],\n",
       "       [9.62922247e-01, 3.70777530e-02],\n",
       "       [2.32620842e-01, 7.67379158e-01],\n",
       "       [9.76196461e-01, 2.38035386e-02],\n",
       "       [7.83341598e-01, 2.16658402e-01],\n",
       "       [8.13053582e-03, 9.91869464e-01],\n",
       "       [3.86882571e-01, 6.13117429e-01],\n",
       "       [9.36824748e-01, 6.31752524e-02],\n",
       "       [4.40345606e-01, 5.59654394e-01],\n",
       "       [7.17679012e-01, 2.82320988e-01],\n",
       "       [9.98794409e-01, 1.20559144e-03],\n",
       "       [9.97794460e-01, 2.20553993e-03],\n",
       "       [1.17879629e-01, 8.82120371e-01],\n",
       "       [3.27531322e-02, 9.67246868e-01],\n",
       "       [1.54800005e-01, 8.45199995e-01],\n",
       "       [8.81872644e-03, 9.91181274e-01],\n",
       "       [9.81684175e-01, 1.83158253e-02],\n",
       "       [9.23861599e-01, 7.61384015e-02],\n",
       "       [9.91697434e-01, 8.30256630e-03],\n",
       "       [8.02896597e-01, 1.97103403e-01],\n",
       "       [5.59598081e-02, 9.44040192e-01],\n",
       "       [9.11866970e-01, 8.81330301e-02],\n",
       "       [9.97991427e-01, 2.00857264e-03],\n",
       "       [1.44742129e-01, 8.55257871e-01],\n",
       "       [2.75917867e-01, 7.24082133e-01],\n",
       "       [7.84980512e-01, 2.15019488e-01],\n",
       "       [8.21768064e-01, 1.78231936e-01],\n",
       "       [1.48161431e-01, 8.51838569e-01],\n",
       "       [9.70484764e-01, 2.95152363e-02],\n",
       "       [9.25453422e-01, 7.45465779e-02],\n",
       "       [2.81364969e-01, 7.18635031e-01],\n",
       "       [2.00138734e-01, 7.99861266e-01],\n",
       "       [1.70954884e-01, 8.29045116e-01],\n",
       "       [2.70613182e-01, 7.29386818e-01],\n",
       "       [9.91455238e-01, 8.54476162e-03],\n",
       "       [7.38291092e-01, 2.61708908e-01],\n",
       "       [6.44725767e-02, 9.35527423e-01],\n",
       "       [7.72145445e-02, 9.22785455e-01],\n",
       "       [5.51126936e-03, 9.94488731e-01],\n",
       "       [9.65257153e-02, 9.03474285e-01],\n",
       "       [1.28688979e-01, 8.71311021e-01],\n",
       "       [8.15613992e-01, 1.84386008e-01],\n",
       "       [6.31287801e-02, 9.36871220e-01],\n",
       "       [8.60186837e-01, 1.39813163e-01],\n",
       "       [1.81963540e-01, 8.18036460e-01],\n",
       "       [3.15883075e-01, 6.84116925e-01],\n",
       "       [9.02713074e-01, 9.72869265e-02],\n",
       "       [3.19073377e-02, 9.68092662e-01],\n",
       "       [4.58646048e-02, 9.54135395e-01],\n",
       "       [2.07126212e-01, 7.92873788e-01],\n",
       "       [9.80503270e-01, 1.94967302e-02],\n",
       "       [3.30304252e-02, 9.66969575e-01],\n",
       "       [9.93668619e-01, 6.33138131e-03],\n",
       "       [1.39756104e-01, 8.60243896e-01],\n",
       "       [3.64822344e-01, 6.35177656e-01],\n",
       "       [8.34294879e-01, 1.65705121e-01],\n",
       "       [6.35001359e-03, 9.93649986e-01],\n",
       "       [5.59637836e-01, 4.40362164e-01],\n",
       "       [2.32559293e-01, 7.67440707e-01],\n",
       "       [7.49041697e-01, 2.50958303e-01],\n",
       "       [7.63979420e-01, 2.36020580e-01],\n",
       "       [9.56957248e-01, 4.30427524e-02],\n",
       "       [4.92737546e-02, 9.50726245e-01],\n",
       "       [5.45085473e-01, 4.54914527e-01],\n",
       "       [9.49865229e-01, 5.01347707e-02],\n",
       "       [3.84307417e-02, 9.61569258e-01],\n",
       "       [4.24648455e-01, 5.75351545e-01],\n",
       "       [1.95593044e-01, 8.04406956e-01],\n",
       "       [2.31040897e-01, 7.68959103e-01],\n",
       "       [8.01099351e-01, 1.98900649e-01],\n",
       "       [1.65156652e-01, 8.34843348e-01],\n",
       "       [1.53846206e-01, 8.46153794e-01],\n",
       "       [9.87628891e-01, 1.23711092e-02],\n",
       "       [8.83865681e-01, 1.16134319e-01],\n",
       "       [9.93792226e-01, 6.20777365e-03],\n",
       "       [7.57593763e-01, 2.42406237e-01],\n",
       "       [3.23336509e-01, 6.76663491e-01],\n",
       "       [8.90488027e-01, 1.09511973e-01],\n",
       "       [7.37777599e-01, 2.62222401e-01],\n",
       "       [8.91890587e-02, 9.10810941e-01],\n",
       "       [9.98549944e-01, 1.45005562e-03],\n",
       "       [9.30499770e-02, 9.06950023e-01],\n",
       "       [8.10882381e-03, 9.91891176e-01],\n",
       "       [6.85864355e-01, 3.14135645e-01],\n",
       "       [9.56177285e-01, 4.38227147e-02],\n",
       "       [9.73266573e-01, 2.67334271e-02],\n",
       "       [5.11534290e-01, 4.88465710e-01],\n",
       "       [9.04484551e-01, 9.55154489e-02],\n",
       "       [4.74868207e-01, 5.25131793e-01],\n",
       "       [1.08341799e-01, 8.91658201e-01],\n",
       "       [5.71104120e-01, 4.28895880e-01],\n",
       "       [5.75201931e-03, 9.94247981e-01],\n",
       "       [6.63435508e-02, 9.33656449e-01],\n",
       "       [6.52430631e-01, 3.47569369e-01],\n",
       "       [1.04704595e-02, 9.89529541e-01],\n",
       "       [9.57156098e-01, 4.28439015e-02],\n",
       "       [2.52816748e-01, 7.47183252e-01],\n",
       "       [2.61979385e-01, 7.38020615e-01],\n",
       "       [5.62106244e-02, 9.43789376e-01],\n",
       "       [1.03940001e-02, 9.89606000e-01],\n",
       "       [5.53713228e-01, 4.46286772e-01],\n",
       "       [2.57304456e-01, 7.42695544e-01],\n",
       "       [5.73890213e-01, 4.26109787e-01],\n",
       "       [2.34081060e-02, 9.76591894e-01],\n",
       "       [9.71926942e-01, 2.80730577e-02],\n",
       "       [8.66903783e-01, 1.33096217e-01],\n",
       "       [7.92370153e-01, 2.07629847e-01],\n",
       "       [9.35973414e-01, 6.40265863e-02],\n",
       "       [8.56338298e-01, 1.43661702e-01],\n",
       "       [7.74966867e-01, 2.25033133e-01],\n",
       "       [9.79653334e-01, 2.03466656e-02],\n",
       "       [2.08877912e-01, 7.91122088e-01],\n",
       "       [8.43138744e-01, 1.56861256e-01],\n",
       "       [9.33307604e-01, 6.66923957e-02],\n",
       "       [9.41240875e-03, 9.90587591e-01]])"
      ]
     },
     "execution_count": 23,
     "metadata": {},
     "output_type": "execute_result"
    }
   ],
   "source": [
    "y_pred_p"
   ]
  },
  {
   "cell_type": "code",
   "execution_count": 24,
   "metadata": {},
   "outputs": [],
   "source": [
    "model_prob = y_pred_p[:,1]"
   ]
  },
  {
   "cell_type": "code",
   "execution_count": 25,
   "metadata": {},
   "outputs": [
    {
     "name": "stdout",
     "output_type": "stream",
     "text": [
      "0.9157706093189963\n",
      "0.5\n"
     ]
    }
   ],
   "source": [
    "from sklearn.metrics import roc_curve,roc_auc_score\n",
    "score = roc_auc_score(y_test,model_prob)\n",
    "score_dummy = roc_auc_score(y_test,dummy_model)\n",
    "print(score)\n",
    "print(score_dummy)\n",
    "\n"
   ]
  },
  {
   "cell_type": "code",
   "execution_count": 30,
   "metadata": {},
   "outputs": [],
   "source": [
    "fpr,tpr,th= roc_curve(y_test,dummy_model)\n",
    "fpr1,tpr1,th1 = roc_curve(y_test,model_prob)"
   ]
  },
  {
   "cell_type": "code",
   "execution_count": 31,
   "metadata": {},
   "outputs": [
    {
     "data": {
      "image/png": "[encoded data removed]",
      "text/plain": [
       "<Figure size 640x480 with 1 Axes>"
      ]
     },
     "metadata": {},
     "output_type": "display_data"
    }
   ],
   "source": [
    "plt.plot(fpr,tpr,linestyle= '-',label = 'dummy_model')\n",
    "plt.plot(fpr1,tpr1,marker = '.',label = 'Logistics')\n",
    "\n",
    "for i, thr in enumerate(th):\n",
    "    plt.annotate(f'{thr:.2f}', (fpr[i], tpr[i]), textcoords=\"offset points\", xytext=(0,10), ha='center', fontsize=8, color='blue')\n",
    "\n",
    "for i, thr1 in enumerate(th1):\n",
    "    plt.annotate(f'{thr1:.2f}', (fpr1[i], tpr1[i]), textcoords=\"offset points\", xytext=(0,10), ha='center', fontsize=8, color='orange')\n",
    "\n",
    "plt.xlabel('true-positive-rate')\n",
    "plt.ylabel('false-positive-rate')\n",
    "plt.legend()\n",
    "plt.show()"
   ]
  },
  {
   "cell_type": "code",
   "execution_count": null,
   "metadata": {},
   "outputs": [],
   "source": []
  }
 ],
 "metadata": {
  "kernelspec": {
   "display_name": "Python 3",
   "language": "python",
   "name": "python3"
  },
  "language_info": {
   "codemirror_mode": {
    "name": "ipython",
    "version": 3
   },
   "file_extension": ".py",
   "mimetype": "text/x-python",
   "name": "python",
   "nbconvert_exporter": "python",
   "pygments_lexer": "ipython3",
   "version": "3.9.0"
  }
 },
 "nbformat": 4,
 "nbformat_minor": 2
}
